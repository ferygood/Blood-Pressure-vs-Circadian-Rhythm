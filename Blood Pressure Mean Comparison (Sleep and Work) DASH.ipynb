{
 "cells": [
  {
   "cell_type": "markdown",
   "metadata": {},
   "source": [
    "### Blood pressure vs Sleep duration\n",
    "file : abpm_d2.csv\n",
    "1. subtract the csv file by the columns which I am interested\n",
    "project 1: blood pressure vs sleep duration\n",
    "project 2: blood pressure (H/M/L) vs sleep duration\n",
    "\n",
    "Project 1:\n",
    "Calculate the mean of blood pressure during sleep and awake.\n",
    "Do statistical analysis to check whether there is signigficant betweeen two means\n",
    "\n",
    "Psedocode:\n",
    "1. subset columns\n",
    "2. adjust time to HH\n",
    "3. split to two group (day(work) and night(sleep))\n",
    "4. calculate the mean blood pressure\n",
    "\n",
    "\n",
    "\n",
    "\n",
    "Project 2:\n",
    "First spit the data to three groups (H/M/L diet)\n",
    "The follow the same steps as Project 1"
   ]
  },
  {
   "cell_type": "code",
   "execution_count": 78,
   "metadata": {},
   "outputs": [],
   "source": [
    "# import packages, and subset the column I am interested in, save as a variable df_ver1\n",
    "\n",
    "import pandas as pd; import numpy as np; from scipy import stats\n",
    "\n",
    "df = pd.read_csv('abpm_d2.csv')\n",
    "df_ver1 = df[['ID_REL','SBP','DBP','TIME','SODIUM','SLEEPFRO','SLEEPTO']]"
   ]
  },
  {
   "cell_type": "code",
   "execution_count": 79,
   "metadata": {},
   "outputs": [
    {
     "name": "stderr",
     "output_type": "stream",
     "text": [
      "/home/urameshi/anaconda3/lib/python3.7/site-packages/ipykernel_launcher.py:8: SettingWithCopyWarning: \n",
      "A value is trying to be set on a copy of a slice from a DataFrame.\n",
      "Try using .loc[row_indexer,col_indexer] = value instead\n",
      "\n",
      "See the caveats in the documentation: http://pandas.pydata.org/pandas-docs/stable/indexing.html#indexing-view-versus-copy\n",
      "  \n",
      "/home/urameshi/anaconda3/lib/python3.7/site-packages/ipykernel_launcher.py:9: SettingWithCopyWarning: \n",
      "A value is trying to be set on a copy of a slice from a DataFrame.\n",
      "Try using .loc[row_indexer,col_indexer] = value instead\n",
      "\n",
      "See the caveats in the documentation: http://pandas.pydata.org/pandas-docs/stable/indexing.html#indexing-view-versus-copy\n",
      "  if __name__ == '__main__':\n",
      "/home/urameshi/anaconda3/lib/python3.7/site-packages/ipykernel_launcher.py:10: SettingWithCopyWarning: \n",
      "A value is trying to be set on a copy of a slice from a DataFrame.\n",
      "Try using .loc[row_indexer,col_indexer] = value instead\n",
      "\n",
      "See the caveats in the documentation: http://pandas.pydata.org/pandas-docs/stable/indexing.html#indexing-view-versus-copy\n",
      "  # Remove the CWD from sys.path while we load stuff.\n",
      "/home/urameshi/anaconda3/lib/python3.7/site-packages/ipykernel_launcher.py:13: SettingWithCopyWarning: \n",
      "A value is trying to be set on a copy of a slice from a DataFrame\n",
      "\n",
      "See the caveats in the documentation: http://pandas.pydata.org/pandas-docs/stable/indexing.html#indexing-view-versus-copy\n",
      "  del sys.path[0]\n",
      "/home/urameshi/anaconda3/lib/python3.7/site-packages/IPython/core/interactiveshell.py:2961: SettingWithCopyWarning: \n",
      "A value is trying to be set on a copy of a slice from a DataFrame\n",
      "\n",
      "See the caveats in the documentation: http://pandas.pydata.org/pandas-docs/stable/indexing.html#indexing-view-versus-copy\n",
      "  exec(code_obj, self.user_global_ns, self.user_ns)\n"
     ]
    }
   ],
   "source": [
    "# adjust the time from HH:MM to HH\n",
    "def timechange(t):\n",
    "    (m,s) = t.split(':')\n",
    "    result = int(m) \n",
    "    return result\n",
    "\n",
    "# Adjust the time, replace the value in the column\n",
    "df_ver1['TIME'] = df_ver1['TIME'].apply(timechange)\n",
    "df_ver1['SLEEPFRO'] = df_ver1['SLEEPFRO'].apply(timechange)\n",
    "df_ver1['SLEEPTO'] = df_ver1['SLEEPTO'].apply(timechange)\n",
    "\n",
    "for x in range(len(df_ver1['SLEEPTO'])):\n",
    "    df_ver1['SLEEPTO'][x] = df_ver1['SLEEPTO'][x] + df_ver1['SLEEPFRO'][x]\n",
    "\n",
    "#save table as csv file\n",
    "abpm_project1 = df_ver1.to_csv('abpm_project1.csv')"
   ]
  },
  {
   "cell_type": "code",
   "execution_count": 81,
   "metadata": {
    "scrolled": true
   },
   "outputs": [],
   "source": [
    "# if the time >= sleepfro time but < sleepto, than it is classified as sleeping group\n",
    "# if the time < sleepfro time but >= sleepto, than it is classified as working group\n",
    "# subset the table to sleeping and working group\n",
    "df_ver1.head()\n",
    "sleeping = []\n",
    "working = []\n",
    "\n",
    "for x in range(len(df_ver1['SLEEPTO'])):\n",
    "    if df_ver1['TIME'][x] >= df_ver1['SLEEPFRO'][x] and df_ver1['TIME'][x] < df_ver1['SLEEPTO'][x]:\n",
    "        sleeping.append(x)\n",
    "    else:\n",
    "        working.append(x)\n",
    "\n",
    "df_ver1.loc[sleeping].to_csv('sleeping_bp.csv')\n",
    "df_ver1.loc[working].to_csv('working_bp.csv')\n",
    "        "
   ]
  },
  {
   "cell_type": "code",
   "execution_count": 85,
   "metadata": {
    "collapsed": true
   },
   "outputs": [
    {
     "name": "stdout",
     "output_type": "stream",
     "text": [
      "         Unnamed: 0          SBP          DBP         TIME     SLEEPFRO  \\\n",
      "count   6046.000000  6046.000000  6046.000000  6046.000000  6046.000000   \n",
      "mean   24556.294079   120.279358    72.756864    12.199802    10.118095   \n",
      "std    14086.405111    16.194431    12.698466     9.392733    10.326784   \n",
      "min        4.000000    71.000000    36.000000     0.000000     0.000000   \n",
      "25%    12361.250000   109.000000    64.000000     3.000000     0.000000   \n",
      "50%    25086.500000   118.000000    72.000000     8.000000     3.000000   \n",
      "75%    36558.750000   130.000000    81.000000    22.000000    22.000000   \n",
      "max    48032.000000   209.000000   130.000000    23.000000    23.000000   \n",
      "\n",
      "           SLEEPTO  \n",
      "count  6046.000000  \n",
      "mean     17.068806  \n",
      "std      10.275618  \n",
      "min       2.000000  \n",
      "25%       7.000000  \n",
      "50%      14.000000  \n",
      "75%      28.000000  \n",
      "max      43.000000  \n",
      "         Unnamed: 0           SBP           DBP          TIME      SLEEPFRO  \\\n",
      "count  42017.000000  42017.000000  42017.000000  42017.000000  42017.000000   \n",
      "mean   23955.413261    129.654021     81.648690     11.440750     17.856225   \n",
      "std    13842.542581     16.285322     12.885184      6.507675      8.787557   \n",
      "min        0.000000     67.000000     23.000000      0.000000      0.000000   \n",
      "25%    11941.000000    119.000000     73.000000      6.000000     21.000000   \n",
      "50%    23879.000000    129.000000     82.000000     12.000000     22.000000   \n",
      "75%    35946.000000    140.000000     90.000000     17.000000     23.000000   \n",
      "max    48062.000000    222.000000    167.000000     23.000000     23.000000   \n",
      "\n",
      "            SLEEPTO  \n",
      "count  42017.000000  \n",
      "mean      23.889164  \n",
      "std        8.755766  \n",
      "min        2.000000  \n",
      "25%       26.000000  \n",
      "50%       28.000000  \n",
      "75%       29.000000  \n",
      "max       43.000000  \n"
     ]
    }
   ],
   "source": [
    "# assign variable for sleeping_bp.csv and working_bp.csv\n",
    "df_sleep = pd.read_csv('sleeping_bp.csv')\n",
    "df_work = pd.read_csv('working_bp.csv')\n",
    "\n",
    "print(df_sleep.describe())\n",
    "print(df_work.describe())"
   ]
  },
  {
   "cell_type": "code",
   "execution_count": 110,
   "metadata": {},
   "outputs": [
    {
     "data": {
      "text/plain": [
       "True"
      ]
     },
     "execution_count": 110,
     "metadata": {},
     "output_type": "execute_result"
    }
   ],
   "source": [
    "# Calculate the mean of sbp and dbp of two groups for each ID for same size of data.\n",
    "'''\n",
    "1. set group as ID and make new dataframe\n",
    "\n",
    "'''\n",
    "\n",
    "id_list = []\n",
    "for x in df_sleep['ID_REL'].drop_duplicates():\n",
    "    id_list.append(x)\n",
    "\n",
    "    \n",
    "sleep_id_index = []\n",
    "for x in range(len(df_sleep['ID_REL'])-1):\n",
    "    if df_sleep['ID_REL'][x] != df_sleep['ID_REL'][x+1]:\n",
    "        sleep_id_index.append(x+1)\n",
    "\n",
    "        \n",
    "work_id_index = []\n",
    "for x in range(len(df_work['ID_REL'])-1):\n",
    "    if df_work['ID_REL'][x] != df_work['ID_REL'][x+1]:\n",
    "        work_id_index.append(x+1)\n",
    "        \n",
    "# check whether the number of id_index is the same\n",
    "len(work_id_index) == len(sleep_id_index)  #True\n",
    "\n",
    "# add zero at the begining of the list\n",
    "work_id_index.insert(0,0) ; sleep_id_index.insert(0,0)"
   ]
  },
  {
   "cell_type": "code",
   "execution_count": 202,
   "metadata": {},
   "outputs": [],
   "source": [
    "# Calculate the mean of blood pressure (SBP,DBP) from work and sleep\n",
    "sleep_sbp = []; sleep_dbp = []; work_sbp = [] ; work_dbp = []\n",
    "\n",
    "for x in range(len(id_list)):\n",
    "    sleep_sbp.append(df_sleep['SBP'][sleep_id_index[x]:sleep_id_index[x]+1].mean())\n",
    "    sleep_dbp.append(df_sleep['DBP'][sleep_id_index[x]:sleep_id_index[x]+1].mean())\n",
    "    work_sbp.append(df_work['SBP'][work_id_index[x]:work_id_index[x]+1].mean())\n",
    "    work_dbp.append(df_work['DBP'][work_id_index[x]:work_id_index[x]+1].mean())\n",
    "\n",
    "# Combine the result of the previous step with ID to form dictionary    \n",
    "sleep_sbp_dict = {} ; sleep_dbp_dict = {} \n",
    "\n",
    "for y in range(len(id_list)):\n",
    "    sleep_sbp_dict[id_list[y]] = sleep_sbp[y]\n",
    "    sleep_dbp_dict[id_list[y]] = sleep_dbp[y]\n",
    "    \n",
    "    \n",
    "# Use dictionaries to Create DataFrame, and add columns to make paired data for t-test\n",
    "   # sbp_dash is the dataframe of paired data shows the sbp from working and sleeping condition\n",
    "sbp_dash = pd.DataFrame.from_dict(pd.DataFrame.from_dict(sleep_sbp_dict, orient='index',columns=['sleeping_sbp']))\n",
    "sbp_dash['working_sbp'] = work_sbp\n",
    "\n",
    "   # dbp_dash is the dataframe of paired data shows the dbp from working and sleeping condition\n",
    "dbp_dash = pd.DataFrame.from_dict(pd.DataFrame.from_dict(sleep_dbp_dict, orient='index',columns=['sleeping_dbp']))\n",
    "dbp_dash['working_dbp'] = work_dbp\n",
    "\n",
    "# Save the file as csv for later-use if needed.\n",
    "sbp_dash.to_csv('mean_sbp_dash.csv')\n",
    "dbp_dash.to_csv('mean_dbp_dash.csv')\n"
   ]
  },
  {
   "cell_type": "code",
   "execution_count": 206,
   "metadata": {},
   "outputs": [
    {
     "name": "stdout",
     "output_type": "stream",
     "text": [
      "[['', 'Test Statistic', 'p-value'], ['dbp_data', 15.374656533292148, 4.704674945582392e-46]] [['', 'Test Statistic', 'p-value'], ['sbp_data', 61.23685649207045, 2.90169113078851e-280]]\n"
     ]
    }
   ],
   "source": [
    "'''\n",
    "Paired sample t-test (correlated pairs t-test, dependent samples t test) \n",
    "> compares means from the same group at different times (say, one year apart)\n",
    "\n",
    "1. Calculate each IDs means of sbp and dbp (working and sleeping)\n",
    "2. Subtraction the mean during working and sleeping\n",
    "3. Statistically analysis by using paired sample t-test\n",
    "\n",
    "H0: Null hypothesis: Blood Pressure of sleep and work are the same\n",
    "H1: Alternate Hypothesis: Blood Pressure of sleep and work are different\n",
    "\n",
    "'''\n",
    "# Perform t-test with input list work_dbp, sleep_dbp, work_sbp, sleep_sbp\n",
    "\n",
    "ttest_dbp = stats.ttest_ind(work_dbp,sleep_dbp)\n",
    "matrix_ttest_dbp = [['', 'Test Statistic', 'p-value'],\n",
    "                    ['dbp_data', ttest_dbp[0], ttest_dbp[1]]]\n",
    "\n",
    "ttest_sbp = stats.ttest_ind(work_sbp, sleep_dbp)\n",
    "matrix_ttest_sbp = [['', 'Test Statistic', 'p-value'],\n",
    "                   ['sbp_data', ttest_sbp[0], ttest_sbp[1]]]\n",
    "\n",
    "print (matrix_ttest_dbp,matrix_ttest_sbp)\n",
    "'''\n",
    "matrix_ttest_dbp:\n",
    "[['', 'Test Statistic', 'p-value'], \n",
    "['dbp_data', 15.374656533292148, 4.704674945582392e-46]] \n",
    "\n",
    "matrix_ttest_sbp\n",
    "[['', 'Test Statistic', 'p-value'], \n",
    "['sbp_data', 61.23685649207045, 2.90169113078851e-280]]\n",
    "'''"
   ]
  }
 ],
 "metadata": {
  "kernelspec": {
   "display_name": "Python 3",
   "language": "python",
   "name": "python3"
  },
  "language_info": {
   "codemirror_mode": {
    "name": "ipython",
    "version": 3
   },
   "file_extension": ".py",
   "mimetype": "text/x-python",
   "name": "python",
   "nbconvert_exporter": "python",
   "pygments_lexer": "ipython3",
   "version": "3.7.0"
  }
 },
 "nbformat": 4,
 "nbformat_minor": 2
}
