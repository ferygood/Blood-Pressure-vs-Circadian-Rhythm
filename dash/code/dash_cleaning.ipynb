{
 "cells": [
  {
   "cell_type": "markdown",
   "metadata": {},
   "source": [
    "### Dash 資料清理 (2019/09/18)\n",
    "先組出要做 Linear regression 的 dataset\n",
    "應變數: dipping status\n",
    "自變數: 飲食、性別、年齡、心律\n",
    "#####  Step1 匯入套件"
   ]
  },
  {
   "cell_type": "code",
   "execution_count": 1,
   "metadata": {},
   "outputs": [],
   "source": [
    "import pandas as pd\n",
    "import numpy as np\n",
    "import sys\n",
    "import os\n",
    "import matplotlib.pyplot as plt\n",
    "from collections import Counter\n",
    "sys.path.append('C:/Users/Yao-Chung Chen/OneDrive/github_ferygood/CR-Hemodynamics/dash/')\n",
    "import tools.dash_analysis_toolbox as dat\n",
    "%matplotlib inline"
   ]
  },
  {
   "cell_type": "markdown",
   "metadata": {},
   "source": [
    "##### step2 匯入 abpm_d2.csv，並調整時間成小時"
   ]
  },
  {
   "cell_type": "code",
   "execution_count": 2,
   "metadata": {},
   "outputs": [
    {
     "data": {
      "text/html": [
       "<div>\n",
       "<style scoped>\n",
       "    .dataframe tbody tr th:only-of-type {\n",
       "        vertical-align: middle;\n",
       "    }\n",
       "\n",
       "    .dataframe tbody tr th {\n",
       "        vertical-align: top;\n",
       "    }\n",
       "\n",
       "    .dataframe thead th {\n",
       "        text-align: right;\n",
       "    }\n",
       "</style>\n",
       "<table border=\"1\" class=\"dataframe\">\n",
       "  <thead>\n",
       "    <tr style=\"text-align: right;\">\n",
       "      <th></th>\n",
       "      <th>ID_REL</th>\n",
       "      <th>COHORT</th>\n",
       "      <th>READNUM</th>\n",
       "      <th>VISIT</th>\n",
       "      <th>FIX_SLP</th>\n",
       "      <th>DIET</th>\n",
       "      <th>SBP</th>\n",
       "      <th>DBP</th>\n",
       "      <th>RATE</th>\n",
       "      <th>TIME</th>\n",
       "      <th>SODIUM</th>\n",
       "      <th>SLEEP_CY</th>\n",
       "      <th>SLEEPFRO</th>\n",
       "      <th>SLEEPTO</th>\n",
       "    </tr>\n",
       "  </thead>\n",
       "  <tbody>\n",
       "    <tr>\n",
       "      <th>0</th>\n",
       "      <td>DASH200055</td>\n",
       "      <td>3</td>\n",
       "      <td>1</td>\n",
       "      <td>6</td>\n",
       "      <td>0</td>\n",
       "      <td>COMBINATION</td>\n",
       "      <td>157</td>\n",
       "      <td>84</td>\n",
       "      <td>80</td>\n",
       "      <td>16:58</td>\n",
       "      <td>H</td>\n",
       "      <td>usual</td>\n",
       "      <td>18:45</td>\n",
       "      <td>10:30</td>\n",
       "    </tr>\n",
       "    <tr>\n",
       "      <th>1</th>\n",
       "      <td>DASH200055</td>\n",
       "      <td>3</td>\n",
       "      <td>2</td>\n",
       "      <td>6</td>\n",
       "      <td>0</td>\n",
       "      <td>COMBINATION</td>\n",
       "      <td>159</td>\n",
       "      <td>90</td>\n",
       "      <td>84</td>\n",
       "      <td>17:00</td>\n",
       "      <td>H</td>\n",
       "      <td>usual</td>\n",
       "      <td>18:45</td>\n",
       "      <td>10:30</td>\n",
       "    </tr>\n",
       "    <tr>\n",
       "      <th>2</th>\n",
       "      <td>DASH200055</td>\n",
       "      <td>3</td>\n",
       "      <td>7</td>\n",
       "      <td>6</td>\n",
       "      <td>0</td>\n",
       "      <td>COMBINATION</td>\n",
       "      <td>160</td>\n",
       "      <td>77</td>\n",
       "      <td>103</td>\n",
       "      <td>17:31</td>\n",
       "      <td>H</td>\n",
       "      <td>usual</td>\n",
       "      <td>18:45</td>\n",
       "      <td>10:30</td>\n",
       "    </tr>\n",
       "    <tr>\n",
       "      <th>3</th>\n",
       "      <td>DASH200055</td>\n",
       "      <td>3</td>\n",
       "      <td>8</td>\n",
       "      <td>6</td>\n",
       "      <td>0</td>\n",
       "      <td>COMBINATION</td>\n",
       "      <td>164</td>\n",
       "      <td>86</td>\n",
       "      <td>82</td>\n",
       "      <td>17:58</td>\n",
       "      <td>H</td>\n",
       "      <td>usual</td>\n",
       "      <td>18:45</td>\n",
       "      <td>10:30</td>\n",
       "    </tr>\n",
       "    <tr>\n",
       "      <th>4</th>\n",
       "      <td>DASH200055</td>\n",
       "      <td>3</td>\n",
       "      <td>9</td>\n",
       "      <td>6</td>\n",
       "      <td>0</td>\n",
       "      <td>COMBINATION</td>\n",
       "      <td>144</td>\n",
       "      <td>82</td>\n",
       "      <td>81</td>\n",
       "      <td>18:28</td>\n",
       "      <td>H</td>\n",
       "      <td>usual</td>\n",
       "      <td>18:45</td>\n",
       "      <td>10:30</td>\n",
       "    </tr>\n",
       "  </tbody>\n",
       "</table>\n",
       "</div>"
      ],
      "text/plain": [
       "       ID_REL  COHORT  READNUM  VISIT  FIX_SLP         DIET  SBP  DBP  RATE  \\\n",
       "0  DASH200055       3        1      6        0  COMBINATION  157   84    80   \n",
       "1  DASH200055       3        2      6        0  COMBINATION  159   90    84   \n",
       "2  DASH200055       3        7      6        0  COMBINATION  160   77   103   \n",
       "3  DASH200055       3        8      6        0  COMBINATION  164   86    82   \n",
       "4  DASH200055       3        9      6        0  COMBINATION  144   82    81   \n",
       "\n",
       "    TIME SODIUM SLEEP_CY SLEEPFRO SLEEPTO  \n",
       "0  16:58      H    usual    18:45   10:30  \n",
       "1  17:00      H    usual    18:45   10:30  \n",
       "2  17:31      H    usual    18:45   10:30  \n",
       "3  17:58      H    usual    18:45   10:30  \n",
       "4  18:28      H    usual    18:45   10:30  "
      ]
     },
     "execution_count": 2,
     "metadata": {},
     "output_type": "execute_result"
    }
   ],
   "source": [
    "# load data\n",
    "dir_path = 'D:/R316yao/bp_circadian/raw_data/Dash Sodium/dashsodium/CSV_Data/'\n",
    "file = os.path.join(dir_path,'abpm_d2.csv')\n",
    "df = pd.read_csv(file)\n",
    "df.head()"
   ]
  },
  {
   "cell_type": "code",
   "execution_count": 3,
   "metadata": {},
   "outputs": [
    {
     "name": "stdout",
     "output_type": "stream",
     "text": [
      "       ID_REL         DIET  SBP  DBP  RATE  TIME SODIUM SLEEP_CY  SLEEPFRO  \\\n",
      "0  DASH200055  COMBINATION  157   84    80    16      H    usual        18   \n",
      "1  DASH200055  COMBINATION  159   90    84    17      H    usual        18   \n",
      "2  DASH200055  COMBINATION  160   77   103    17      H    usual        18   \n",
      "3  DASH200055  COMBINATION  164   86    82    17      H    usual        18   \n",
      "4  DASH200055  COMBINATION  144   82    81    18      H    usual        18   \n",
      "\n",
      "   SLEEPTO  \n",
      "0       10  \n",
      "1       10  \n",
      "2       10  \n",
      "3       10  \n",
      "4       10  \n"
     ]
    },
    {
     "data": {
      "text/html": [
       "<div>\n",
       "<style scoped>\n",
       "    .dataframe tbody tr th:only-of-type {\n",
       "        vertical-align: middle;\n",
       "    }\n",
       "\n",
       "    .dataframe tbody tr th {\n",
       "        vertical-align: top;\n",
       "    }\n",
       "\n",
       "    .dataframe thead th {\n",
       "        text-align: right;\n",
       "    }\n",
       "</style>\n",
       "<table border=\"1\" class=\"dataframe\">\n",
       "  <thead>\n",
       "    <tr style=\"text-align: right;\">\n",
       "      <th></th>\n",
       "      <th>SBP</th>\n",
       "      <th>DBP</th>\n",
       "      <th>RATE</th>\n",
       "      <th>TIME</th>\n",
       "      <th>SLEEPFRO</th>\n",
       "      <th>SLEEPTO</th>\n",
       "    </tr>\n",
       "  </thead>\n",
       "  <tbody>\n",
       "    <tr>\n",
       "      <th>count</th>\n",
       "      <td>48063.000000</td>\n",
       "      <td>48063.000000</td>\n",
       "      <td>48063.000000</td>\n",
       "      <td>48063.000000</td>\n",
       "      <td>48063.000000</td>\n",
       "      <td>48063.000000</td>\n",
       "    </tr>\n",
       "    <tr>\n",
       "      <th>mean</th>\n",
       "      <td>128.474752</td>\n",
       "      <td>80.530158</td>\n",
       "      <td>76.339929</td>\n",
       "      <td>11.536234</td>\n",
       "      <td>16.882820</td>\n",
       "      <td>6.148389</td>\n",
       "    </tr>\n",
       "    <tr>\n",
       "      <th>std</th>\n",
       "      <td>16.568032</td>\n",
       "      <td>13.195399</td>\n",
       "      <td>14.587250</td>\n",
       "      <td>6.941331</td>\n",
       "      <td>9.354409</td>\n",
       "      <td>1.977484</td>\n",
       "    </tr>\n",
       "    <tr>\n",
       "      <th>min</th>\n",
       "      <td>67.000000</td>\n",
       "      <td>23.000000</td>\n",
       "      <td>7.000000</td>\n",
       "      <td>0.000000</td>\n",
       "      <td>0.000000</td>\n",
       "      <td>0.000000</td>\n",
       "    </tr>\n",
       "    <tr>\n",
       "      <th>25%</th>\n",
       "      <td>117.000000</td>\n",
       "      <td>72.000000</td>\n",
       "      <td>66.000000</td>\n",
       "      <td>5.000000</td>\n",
       "      <td>10.000000</td>\n",
       "      <td>5.000000</td>\n",
       "    </tr>\n",
       "    <tr>\n",
       "      <th>50%</th>\n",
       "      <td>128.000000</td>\n",
       "      <td>81.000000</td>\n",
       "      <td>75.000000</td>\n",
       "      <td>12.000000</td>\n",
       "      <td>22.000000</td>\n",
       "      <td>6.000000</td>\n",
       "    </tr>\n",
       "    <tr>\n",
       "      <th>75%</th>\n",
       "      <td>139.000000</td>\n",
       "      <td>89.000000</td>\n",
       "      <td>85.000000</td>\n",
       "      <td>17.000000</td>\n",
       "      <td>23.000000</td>\n",
       "      <td>7.000000</td>\n",
       "    </tr>\n",
       "    <tr>\n",
       "      <th>max</th>\n",
       "      <td>222.000000</td>\n",
       "      <td>167.000000</td>\n",
       "      <td>187.000000</td>\n",
       "      <td>23.000000</td>\n",
       "      <td>23.000000</td>\n",
       "      <td>23.000000</td>\n",
       "    </tr>\n",
       "  </tbody>\n",
       "</table>\n",
       "</div>"
      ],
      "text/plain": [
       "                SBP           DBP          RATE          TIME      SLEEPFRO  \\\n",
       "count  48063.000000  48063.000000  48063.000000  48063.000000  48063.000000   \n",
       "mean     128.474752     80.530158     76.339929     11.536234     16.882820   \n",
       "std       16.568032     13.195399     14.587250      6.941331      9.354409   \n",
       "min       67.000000     23.000000      7.000000      0.000000      0.000000   \n",
       "25%      117.000000     72.000000     66.000000      5.000000     10.000000   \n",
       "50%      128.000000     81.000000     75.000000     12.000000     22.000000   \n",
       "75%      139.000000     89.000000     85.000000     17.000000     23.000000   \n",
       "max      222.000000    167.000000    187.000000     23.000000     23.000000   \n",
       "\n",
       "            SLEEPTO  \n",
       "count  48063.000000  \n",
       "mean       6.148389  \n",
       "std        1.977484  \n",
       "min        0.000000  \n",
       "25%        5.000000  \n",
       "50%        6.000000  \n",
       "75%        7.000000  \n",
       "max       23.000000  "
      ]
     },
     "execution_count": 3,
     "metadata": {},
     "output_type": "execute_result"
    }
   ],
   "source": [
    "# select the column which we are interested in\n",
    "df = df[['ID_REL','DIET','SBP','DBP','RATE','TIME','SODIUM','SLEEP_CY','SLEEPFRO','SLEEPTO']]\n",
    "# adjust time from HH:MM to HH\n",
    "df['TIME'] = df['TIME'].apply(dat.timechange)\n",
    "df['SLEEPFRO'] = df['SLEEPFRO'].apply(dat.timechange)\n",
    "df['SLEEPTO'] = df['SLEEPTO'].apply(dat.timechange)\n",
    "print(df.head())\n",
    "df.describe()"
   ]
  },
  {
   "cell_type": "markdown",
   "metadata": {},
   "source": [
    "##### step3 檢查是否有不合理值或是離群值\n",
    "SBP, DBP 最大最小值需要檢查一下是否合理?\n",
    "Rate 最小值 7 很明顯不合理，最大值 187 是否合理?"
   ]
  },
  {
   "cell_type": "code",
   "execution_count": 4,
   "metadata": {},
   "outputs": [
    {
     "name": "stdout",
     "output_type": "stream",
     "text": [
      "{67: 1, 71: 1, 73: 1, 76: 1, 77: 4, 78: 4, 79: 7, 80: 6, 81: 7, 82: 12, 83: 17, 84: 16, 85: 32, 86: 38, 87: 37, 88: 52, 89: 67, 90: 79, 91: 77, 92: 91, 93: 98, 94: 116, 95: 143, 96: 160, 97: 198, 98: 208, 99: 215, 100: 261, 101: 299, 102: 318, 103: 343, 104: 410, 105: 415, 106: 451, 107: 510, 108: 620, 109: 588, 110: 572, 111: 654, 112: 726, 113: 813, 114: 808, 115: 873, 116: 903, 117: 972, 118: 966, 119: 1065, 120: 1078, 121: 1039, 122: 1120, 123: 1131, 124: 1180, 125: 1180, 126: 1177, 127: 1169, 128: 1211, 129: 1224, 130: 1161, 131: 1191, 132: 1177, 133: 1123, 134: 1056, 135: 1098, 136: 1078, 137: 1040, 138: 964, 139: 889, 140: 867, 141: 825, 142: 825, 143: 702, 144: 710, 145: 608, 146: 580, 147: 590, 148: 529, 149: 427, 150: 456, 151: 415, 152: 408, 153: 337, 154: 308, 155: 296, 156: 247, 157: 227, 158: 227, 159: 215, 160: 173, 161: 159, 162: 160, 163: 126, 164: 127, 165: 103, 166: 90, 167: 99, 168: 71, 169: 62, 170: 53, 171: 53, 172: 46, 173: 40, 174: 45, 175: 41, 176: 24, 177: 33, 178: 29, 179: 29, 180: 16, 181: 15, 182: 17, 183: 10, 184: 4, 185: 7, 186: 8, 187: 15, 188: 12, 189: 8, 190: 5, 191: 3, 192: 6, 193: 3, 194: 3, 195: 5, 196: 1, 197: 1, 198: 2, 199: 1, 200: 3, 201: 1, 202: 1, 203: 4, 204: 1, 205: 1, 206: 1, 208: 1, 209: 1, 211: 1, 218: 1, 222: 2}\n"
     ]
    },
    {
     "data": {
      "text/plain": [
       "(array([4.4000e+01, 1.2210e+03, 7.4030e+03, 1.5872e+04, 1.5930e+04,\n",
       "        5.8700e+03, 1.4480e+03, 2.3200e+02, 3.7000e+01, 6.0000e+00]),\n",
       " array([ 67. ,  82.5,  98. , 113.5, 129. , 144.5, 160. , 175.5, 191. ,\n",
       "        206.5, 222. ]),\n",
       " <a list of 10 Patch objects>)"
      ]
     },
     "execution_count": 4,
     "metadata": {},
     "output_type": "execute_result"
    },
    {
     "data": {
      "image/png": "[encoded data removed]",
      "text/plain": [
       "<Figure size 432x288 with 1 Axes>"
      ]
     },
     "metadata": {},
     "output_type": "display_data"
    }
   ],
   "source": [
    "# 檢查 SBP\n",
    "count_sbp = dict(Counter(df['SBP'].sort_values()))\n",
    "print(count_sbp)\n",
    "plt.hist(df['SBP'])"
   ]
  },
  {
   "cell_type": "code",
   "execution_count": 5,
   "metadata": {},
   "outputs": [],
   "source": [
    "# 將SBP最大值限縮到 200，最小值限縮到 80\n",
    "df['SBP'] = df['SBP'].mask(df['SBP']>200,200)\n",
    "df['SBP'] = df['SBP'].mask(df['SBP']<80,80)"
   ]
  },
  {
   "cell_type": "code",
   "execution_count": 6,
   "metadata": {},
   "outputs": [
    {
     "name": "stdout",
     "output_type": "stream",
     "text": [
      "{23: 1, 30: 2, 32: 1, 33: 1, 34: 2, 35: 1, 36: 4, 37: 6, 38: 11, 39: 11, 40: 16, 41: 11, 42: 21, 43: 25, 44: 36, 45: 47, 46: 50, 47: 64, 48: 94, 49: 95, 50: 144, 51: 170, 52: 157, 53: 202, 54: 241, 55: 247, 56: 273, 57: 308, 58: 396, 59: 390, 60: 424, 61: 510, 62: 531, 63: 590, 64: 608, 65: 699, 66: 765, 67: 808, 68: 852, 69: 906, 70: 976, 71: 1003, 72: 1006, 73: 1116, 74: 1180, 75: 1281, 76: 1302, 77: 1402, 78: 1389, 79: 1387, 80: 1450, 81: 1449, 82: 1438, 83: 1463, 84: 1533, 85: 1456, 86: 1445, 87: 1422, 88: 1331, 89: 1299, 90: 1221, 91: 1119, 92: 1119, 93: 1044, 94: 897, 95: 817, 96: 720, 97: 649, 98: 633, 99: 526, 100: 468, 101: 400, 102: 415, 103: 318, 104: 258, 105: 212, 106: 212, 107: 172, 108: 140, 109: 112, 110: 107, 111: 92, 112: 67, 113: 43, 114: 50, 115: 44, 116: 22, 117: 25, 118: 19, 119: 17, 120: 13, 121: 8, 122: 10, 123: 5, 124: 6, 125: 8, 126: 2, 127: 4, 128: 2, 129: 2, 130: 4, 131: 2, 132: 2, 133: 1, 134: 3, 135: 1, 137: 1, 139: 1, 151: 1, 167: 1}\n"
     ]
    },
    {
     "data": {
      "image/png": "[encoded data removed]",
      "text/plain": [
       "<Figure size 432x288 with 1 Axes>"
      ]
     },
     "metadata": {},
     "output_type": "display_data"
    }
   ],
   "source": [
    "# 檢查 DBP \n",
    "count_dbp = dict(Counter(df['DBP'].sort_values()))\n",
    "print(count_dbp)\n",
    "plt.hist(df['DBP'])\n",
    "# 限縮 DBP 最大值 140，最小值 40\n",
    "df['DBP'] = df['DBP'].mask(df['DBP']>140,140)\n",
    "df['DBP'] = df['DBP'].mask(df['DBP']<40,40)"
   ]
  },
  {
   "cell_type": "code",
   "execution_count": 7,
   "metadata": {},
   "outputs": [
    {
     "name": "stdout",
     "output_type": "stream",
     "text": [
      "{7: 1, 20: 1, 23: 2, 28: 1, 31: 2, 32: 3, 33: 4, 34: 4, 35: 4, 36: 4, 37: 6, 38: 6, 39: 7, 40: 16, 41: 8, 42: 19, 43: 21, 44: 38, 45: 61, 46: 72, 47: 105, 48: 131, 49: 207, 50: 216, 51: 270, 52: 325, 53: 376, 54: 449, 55: 443, 56: 581, 57: 591, 58: 707, 59: 745, 60: 831, 61: 887, 62: 916, 63: 1073, 64: 971, 65: 1121, 66: 1173, 67: 1266, 68: 1241, 69: 1304, 70: 1335, 71: 1316, 72: 1333, 73: 1269, 74: 1413, 75: 1370, 76: 1294, 77: 1388, 78: 1418, 79: 1343, 80: 1236, 81: 1146, 82: 1180, 83: 1194, 84: 999, 85: 1134, 86: 932, 87: 874, 88: 874, 89: 724, 90: 733, 91: 700, 92: 520, 93: 571, 94: 507, 95: 435, 96: 493, 97: 365, 98: 361, 99: 315, 100: 312, 101: 283, 102: 268, 103: 227, 104: 169, 105: 211, 106: 161, 107: 161, 108: 142, 109: 118, 110: 110, 111: 86, 112: 76, 113: 86, 114: 69, 115: 65, 116: 56, 117: 47, 118: 43, 119: 38, 120: 46, 121: 27, 122: 25, 123: 31, 124: 14, 125: 13, 126: 28, 127: 17, 128: 19, 129: 9, 130: 17, 131: 11, 132: 7, 133: 11, 134: 5, 135: 6, 136: 3, 137: 4, 138: 4, 139: 3, 140: 3, 141: 4, 142: 3, 143: 2, 144: 4, 147: 2, 148: 2, 149: 1, 150: 6, 151: 2, 152: 1, 153: 2, 156: 2, 158: 2, 159: 1, 160: 1, 161: 1, 162: 1, 163: 2, 164: 3, 165: 1, 171: 1, 175: 2, 181: 2, 185: 2, 187: 1}\n"
     ]
    },
    {
     "data": {
      "image/png": "[encoded data removed]",
      "text/plain": [
       "<Figure size 432x288 with 1 Axes>"
      ]
     },
     "metadata": {},
     "output_type": "display_data"
    }
   ],
   "source": [
    "# 檢查 rate\n",
    "count_rate = dict(Counter(df['RATE'].sort_values()))\n",
    "print(count_rate)\n",
    "plt.hist(df['RATE'])\n",
    "# 限縮 RATE 最大值 135，最小值 40\n",
    "df['RATE'] = df['RATE'].mask(df['RATE']>135,135)\n",
    "df['RATE'] = df['RATE'].mask(df['RATE']<40,40)"
   ]
  },
  {
   "cell_type": "code",
   "execution_count": 8,
   "metadata": {},
   "outputs": [
    {
     "data": {
      "text/html": [
       "<div>\n",
       "<style scoped>\n",
       "    .dataframe tbody tr th:only-of-type {\n",
       "        vertical-align: middle;\n",
       "    }\n",
       "\n",
       "    .dataframe tbody tr th {\n",
       "        vertical-align: top;\n",
       "    }\n",
       "\n",
       "    .dataframe thead th {\n",
       "        text-align: right;\n",
       "    }\n",
       "</style>\n",
       "<table border=\"1\" class=\"dataframe\">\n",
       "  <thead>\n",
       "    <tr style=\"text-align: right;\">\n",
       "      <th></th>\n",
       "      <th>SBP</th>\n",
       "      <th>DBP</th>\n",
       "      <th>RATE</th>\n",
       "      <th>TIME</th>\n",
       "      <th>SLEEPFRO</th>\n",
       "      <th>SLEEPTO</th>\n",
       "    </tr>\n",
       "  </thead>\n",
       "  <tbody>\n",
       "    <tr>\n",
       "      <th>count</th>\n",
       "      <td>48063.000000</td>\n",
       "      <td>48063.000000</td>\n",
       "      <td>48063.000000</td>\n",
       "      <td>48063.000000</td>\n",
       "      <td>48063.000000</td>\n",
       "      <td>48063.000000</td>\n",
       "    </tr>\n",
       "    <tr>\n",
       "      <th>mean</th>\n",
       "      <td>128.473504</td>\n",
       "      <td>80.532197</td>\n",
       "      <td>76.322389</td>\n",
       "      <td>11.536234</td>\n",
       "      <td>16.882820</td>\n",
       "      <td>6.148389</td>\n",
       "    </tr>\n",
       "    <tr>\n",
       "      <th>std</th>\n",
       "      <td>16.552306</td>\n",
       "      <td>13.181779</td>\n",
       "      <td>14.456063</td>\n",
       "      <td>6.941331</td>\n",
       "      <td>9.354409</td>\n",
       "      <td>1.977484</td>\n",
       "    </tr>\n",
       "    <tr>\n",
       "      <th>min</th>\n",
       "      <td>80.000000</td>\n",
       "      <td>40.000000</td>\n",
       "      <td>40.000000</td>\n",
       "      <td>0.000000</td>\n",
       "      <td>0.000000</td>\n",
       "      <td>0.000000</td>\n",
       "    </tr>\n",
       "    <tr>\n",
       "      <th>25%</th>\n",
       "      <td>117.000000</td>\n",
       "      <td>72.000000</td>\n",
       "      <td>66.000000</td>\n",
       "      <td>5.000000</td>\n",
       "      <td>10.000000</td>\n",
       "      <td>5.000000</td>\n",
       "    </tr>\n",
       "    <tr>\n",
       "      <th>50%</th>\n",
       "      <td>128.000000</td>\n",
       "      <td>81.000000</td>\n",
       "      <td>75.000000</td>\n",
       "      <td>12.000000</td>\n",
       "      <td>22.000000</td>\n",
       "      <td>6.000000</td>\n",
       "    </tr>\n",
       "    <tr>\n",
       "      <th>75%</th>\n",
       "      <td>139.000000</td>\n",
       "      <td>89.000000</td>\n",
       "      <td>85.000000</td>\n",
       "      <td>17.000000</td>\n",
       "      <td>23.000000</td>\n",
       "      <td>7.000000</td>\n",
       "    </tr>\n",
       "    <tr>\n",
       "      <th>max</th>\n",
       "      <td>200.000000</td>\n",
       "      <td>140.000000</td>\n",
       "      <td>135.000000</td>\n",
       "      <td>23.000000</td>\n",
       "      <td>23.000000</td>\n",
       "      <td>23.000000</td>\n",
       "    </tr>\n",
       "  </tbody>\n",
       "</table>\n",
       "</div>"
      ],
      "text/plain": [
       "                SBP           DBP          RATE          TIME      SLEEPFRO  \\\n",
       "count  48063.000000  48063.000000  48063.000000  48063.000000  48063.000000   \n",
       "mean     128.473504     80.532197     76.322389     11.536234     16.882820   \n",
       "std       16.552306     13.181779     14.456063      6.941331      9.354409   \n",
       "min       80.000000     40.000000     40.000000      0.000000      0.000000   \n",
       "25%      117.000000     72.000000     66.000000      5.000000     10.000000   \n",
       "50%      128.000000     81.000000     75.000000     12.000000     22.000000   \n",
       "75%      139.000000     89.000000     85.000000     17.000000     23.000000   \n",
       "max      200.000000    140.000000    135.000000     23.000000     23.000000   \n",
       "\n",
       "            SLEEPTO  \n",
       "count  48063.000000  \n",
       "mean       6.148389  \n",
       "std        1.977484  \n",
       "min        0.000000  \n",
       "25%        5.000000  \n",
       "50%        6.000000  \n",
       "75%        7.000000  \n",
       "max       23.000000  "
      ]
     },
     "execution_count": 8,
     "metadata": {},
     "output_type": "execute_result"
    }
   ],
   "source": [
    "# 檢查調整過大小值的 df 有沒有成功\n",
    "df.describe()"
   ]
  },
  {
   "cell_type": "markdown",
   "metadata": {},
   "source": [
    "### step4\n",
    "想要將資料框整理成 ID_REL, DIET, mean_sleep_sbp, mean_wake_sbp, mean_sleep_dbp, mean_wake_dbp, mean_sleep_rate, mean_wake_rate, diet,sodium,sleep_CY\n",
    "1. 先分成六個 df: H_control, M_control, L_control, H_dash, M_dash, L_dash"
   ]
  },
  {
   "cell_type": "code",
   "execution_count": null,
   "metadata": {},
   "outputs": [],
   "source": [
    "control_df = df[df['DIET']=='CONTROL']\n",
    "dash_df = df[df['DIET']=='COMBINATION']\n",
    "\n",
    "H_control = control_df[control_df['SODIUM']=='H']\n",
    "M_control = control_df[control_df['SODIUM']=='M']\n",
    "L_control = control_df[control_df['SODIUM']=='L']\n",
    "\n",
    "H_dash = dash_df[dash_df['SODIUM']=='H']\n",
    "M_dash = dash_df[dash_df['SODIUM']=='M']\n",
    "L_dash = dash_df[dash_df['SODIUM']=='L']"
   ]
  },
  {
   "cell_type": "markdown",
   "metadata": {},
   "source": [
    "2. 處理時間欄位，使用 dat 自己寫的套件"
   ]
  },
  {
   "cell_type": "code",
   "execution_count": null,
   "metadata": {},
   "outputs": [],
   "source": [
    "# 之前跑 for loop 會當機，所以一個一個來\n",
    "# 要注意，這部會跑很久，要重啟 kernel 建議一個一個跑\n",
    "#dat.add_24(H_control)\n",
    "#dat.add_24(M_control)\n",
    "#dat.add_24(L_control)\n",
    "#dat.add_24(H_dash)\n",
    "#dat.add_24(M_dash)\n",
    "#dat.add_24(L_dash)"
   ]
  },
  {
   "cell_type": "code",
   "execution_count": null,
   "metadata": {},
   "outputs": [],
   "source": [
    "# 增加 sleep_awake 欄位，自己寫的 function dat.sleep_awake()\n",
    "df_list = [H_control, M_control, L_control, H_dash, M_dash, L_dash]\n",
    "for df in df_list:\n",
    "    dat.sleep_awake(df)"
   ]
  },
  {
   "cell_type": "code",
   "execution_count": null,
   "metadata": {},
   "outputs": [],
   "source": [
    "# 用自己寫的 fumction 計算，算出平均值 dat.mean_bp_rate()\n",
    "H_control_mean = dat.mean_bp_rate(H_control)\n",
    "M_control_mean = dat.mean_bp_rate(M_control)\n",
    "L_control_mean = dat.mean_bp_rate(L_control)\n",
    "H_dash_mean = dat.mean_bp_rate(H_dash)\n",
    "M_dash_mean = dat.mean_bp_rate(M_dash)\n",
    "L_dash_mean = dat.mean_bp_rate(L_dash)"
   ]
  },
  {
   "cell_type": "code",
   "execution_count": null,
   "metadata": {},
   "outputs": [],
   "source": [
    "# 儲存清理好的 csv 檔案\n",
    "H_control_mean.to_csv('./Clean_data/H_control_mean.csv')\n",
    "M_control_mean.to_csv('./Clean_data/M_control_mean.csv')\n",
    "L_control_mean.to_csv('./Clean_data/L_control_mean.csv')\n",
    "H_dash_mean.to_csv('./Clean_data/H_dash_mean.csv')\n",
    "M_dash_mean.to_csv('./Clean_data/M_dash_mean.csv')\n",
    "L_dash_mean.to_csv('./Clean_data/L_dash_mean.csv')"
   ]
  }
 ],
 "metadata": {
  "kernelspec": {
   "display_name": "Python 3",
   "language": "python",
   "name": "python3"
  },
  "language_info": {
   "codemirror_mode": {
    "name": "ipython",
    "version": 3
   },
   "file_extension": ".py",
   "mimetype": "text/x-python",
   "name": "python",
   "nbconvert_exporter": "python",
   "pygments_lexer": "ipython3",
   "version": "3.6.5"
  }
 },
 "nbformat": 4,
 "nbformat_minor": 2
}
