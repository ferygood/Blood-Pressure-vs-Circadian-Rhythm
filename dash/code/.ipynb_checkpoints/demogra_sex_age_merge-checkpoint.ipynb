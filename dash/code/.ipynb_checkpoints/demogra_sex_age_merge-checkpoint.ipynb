{
 "cells": [
  {
   "cell_type": "markdown",
   "metadata": {},
   "source": [
    "### 加入 sex & age 資料\n",
    "import demogra data and select sex and age data"
   ]
  },
  {
   "cell_type": "markdown",
   "metadata": {},
   "source": [
    "#### step 1 匯入套件"
   ]
  },
  {
   "cell_type": "code",
   "execution_count": 1,
   "metadata": {},
   "outputs": [],
   "source": [
    "import pandas as pd\n",
    "import numpy as np\n",
    "import sys\n",
    "import os\n",
    "import matplotlib.pyplot as plt"
   ]
  },
  {
   "cell_type": "markdown",
   "metadata": {},
   "source": [
    "#### step 2 匯入資料 "
   ]
  },
  {
   "cell_type": "code",
   "execution_count": 2,
   "metadata": {},
   "outputs": [
    {
     "data": {
      "text/html": [
       "<div>\n",
       "<style scoped>\n",
       "    .dataframe tbody tr th:only-of-type {\n",
       "        vertical-align: middle;\n",
       "    }\n",
       "\n",
       "    .dataframe tbody tr th {\n",
       "        vertical-align: top;\n",
       "    }\n",
       "\n",
       "    .dataframe thead th {\n",
       "        text-align: right;\n",
       "    }\n",
       "</style>\n",
       "<table border=\"1\" class=\"dataframe\">\n",
       "  <thead>\n",
       "    <tr style=\"text-align: right;\">\n",
       "      <th></th>\n",
       "      <th>ID_REL</th>\n",
       "      <th>COHORT</th>\n",
       "      <th>INCOME_R</th>\n",
       "      <th>RACE_REL</th>\n",
       "      <th>SEX</th>\n",
       "      <th>SV3_WT</th>\n",
       "      <th>ALCOHOL</th>\n",
       "      <th>MARITAL</th>\n",
       "      <th>SMOKE100</th>\n",
       "      <th>SMOKENOW</th>\n",
       "      <th>...</th>\n",
       "      <th>NA3</th>\n",
       "      <th>DIET</th>\n",
       "      <th>COMPSTDY</th>\n",
       "      <th>COMPFEED</th>\n",
       "      <th>WT_REL</th>\n",
       "      <th>HT_REL</th>\n",
       "      <th>AGE_REL</th>\n",
       "      <th>EMP_REL</th>\n",
       "      <th>EDU_REL</th>\n",
       "      <th>SMOK_REL</th>\n",
       "    </tr>\n",
       "  </thead>\n",
       "  <tbody>\n",
       "    <tr>\n",
       "      <th>0</th>\n",
       "      <td>DASH200350</td>\n",
       "      <td>3</td>\n",
       "      <td>1</td>\n",
       "      <td>1</td>\n",
       "      <td>1</td>\n",
       "      <td>70.5</td>\n",
       "      <td>0.0</td>\n",
       "      <td>4</td>\n",
       "      <td>1</td>\n",
       "      <td>1</td>\n",
       "      <td>...</td>\n",
       "      <td>H</td>\n",
       "      <td>COMBINATION</td>\n",
       "      <td>1</td>\n",
       "      <td>1</td>\n",
       "      <td>71.4</td>\n",
       "      <td>189.5</td>\n",
       "      <td>6</td>\n",
       "      <td>1</td>\n",
       "      <td>2</td>\n",
       "      <td>1</td>\n",
       "    </tr>\n",
       "    <tr>\n",
       "      <th>1</th>\n",
       "      <td>DASH200096</td>\n",
       "      <td>3</td>\n",
       "      <td>1</td>\n",
       "      <td>1</td>\n",
       "      <td>1</td>\n",
       "      <td>69.0</td>\n",
       "      <td>1.0</td>\n",
       "      <td>1</td>\n",
       "      <td>2</td>\n",
       "      <td>.</td>\n",
       "      <td>...</td>\n",
       "      <td>L</td>\n",
       "      <td>CONTROL</td>\n",
       "      <td>1</td>\n",
       "      <td>1</td>\n",
       "      <td>66.5</td>\n",
       "      <td>180.9</td>\n",
       "      <td>2</td>\n",
       "      <td>1</td>\n",
       "      <td>2</td>\n",
       "      <td>.</td>\n",
       "    </tr>\n",
       "    <tr>\n",
       "      <th>2</th>\n",
       "      <td>DASH200334</td>\n",
       "      <td>5</td>\n",
       "      <td>1</td>\n",
       "      <td>1</td>\n",
       "      <td>2</td>\n",
       "      <td>52.0</td>\n",
       "      <td>0.0</td>\n",
       "      <td>4</td>\n",
       "      <td>1</td>\n",
       "      <td>1</td>\n",
       "      <td>...</td>\n",
       "      <td>H</td>\n",
       "      <td>CONTROL</td>\n",
       "      <td>1</td>\n",
       "      <td>1</td>\n",
       "      <td>52.0</td>\n",
       "      <td>156.4</td>\n",
       "      <td>7</td>\n",
       "      <td>1</td>\n",
       "      <td>1</td>\n",
       "      <td>2</td>\n",
       "    </tr>\n",
       "    <tr>\n",
       "      <th>3</th>\n",
       "      <td>DASH200361</td>\n",
       "      <td>1</td>\n",
       "      <td>3</td>\n",
       "      <td>0</td>\n",
       "      <td>1</td>\n",
       "      <td>61.0</td>\n",
       "      <td>6.0</td>\n",
       "      <td>1</td>\n",
       "      <td>2</td>\n",
       "      <td>.</td>\n",
       "      <td>...</td>\n",
       "      <td>H</td>\n",
       "      <td>COMBINATION</td>\n",
       "      <td>1</td>\n",
       "      <td>1</td>\n",
       "      <td>61.0</td>\n",
       "      <td>172.3</td>\n",
       "      <td>3</td>\n",
       "      <td>2</td>\n",
       "      <td>3</td>\n",
       "      <td>.</td>\n",
       "    </tr>\n",
       "    <tr>\n",
       "      <th>4</th>\n",
       "      <td>DASH200223</td>\n",
       "      <td>4</td>\n",
       "      <td>3</td>\n",
       "      <td>0</td>\n",
       "      <td>2</td>\n",
       "      <td>63.0</td>\n",
       "      <td>0.0</td>\n",
       "      <td>2</td>\n",
       "      <td>2</td>\n",
       "      <td>.</td>\n",
       "      <td>...</td>\n",
       "      <td>L</td>\n",
       "      <td>CONTROL</td>\n",
       "      <td>1</td>\n",
       "      <td>1</td>\n",
       "      <td>63.1</td>\n",
       "      <td>171.2</td>\n",
       "      <td>7</td>\n",
       "      <td>4</td>\n",
       "      <td>4</td>\n",
       "      <td>.</td>\n",
       "    </tr>\n",
       "  </tbody>\n",
       "</table>\n",
       "<p>5 rows × 104 columns</p>\n",
       "</div>"
      ],
      "text/plain": [
       "       ID_REL  COHORT INCOME_R  RACE_REL  SEX  SV3_WT  ALCOHOL  MARITAL  \\\n",
       "0  DASH200350       3        1         1    1    70.5      0.0        4   \n",
       "1  DASH200096       3        1         1    1    69.0      1.0        1   \n",
       "2  DASH200334       5        1         1    2    52.0      0.0        4   \n",
       "3  DASH200361       1        3         0    1    61.0      6.0        1   \n",
       "4  DASH200223       4        3         0    2    63.0      0.0        2   \n",
       "\n",
       "   SMOKE100 SMOKENOW    ...     NA3         DIET COMPSTDY COMPFEED WT_REL  \\\n",
       "0         1        1    ...       H  COMBINATION        1        1   71.4   \n",
       "1         2        .    ...       L      CONTROL        1        1   66.5   \n",
       "2         1        1    ...       H      CONTROL        1        1   52.0   \n",
       "3         2        .    ...       H  COMBINATION        1        1   61.0   \n",
       "4         2        .    ...       L      CONTROL        1        1   63.1   \n",
       "\n",
       "  HT_REL AGE_REL  EMP_REL  EDU_REL  SMOK_REL  \n",
       "0  189.5       6        1        2         1  \n",
       "1  180.9       2        1        2         .  \n",
       "2  156.4       7        1        1         2  \n",
       "3  172.3       3        2        3         .  \n",
       "4  171.2       7        4        4         .  \n",
       "\n",
       "[5 rows x 104 columns]"
      ]
     },
     "execution_count": 2,
     "metadata": {},
     "output_type": "execute_result"
    }
   ],
   "source": [
    "dir_path = 'D:/R316yao/bp_circadian/raw_data/Dash Sodium/dashsodium/CSV_Data/'\n",
    "file = os.path.join(dir_path, 'demogra.csv')\n",
    "df = pd.read_csv(file)\n",
    "df.head() # we are intereseted in columns: ID_REL, SEX, and AGE_REL "
   ]
  },
  {
   "cell_type": "code",
   "execution_count": 3,
   "metadata": {},
   "outputs": [
    {
     "name": "stdout",
     "output_type": "stream",
     "text": [
      "(412, 3)\n"
     ]
    },
    {
     "data": {
      "text/html": [
       "<div>\n",
       "<style scoped>\n",
       "    .dataframe tbody tr th:only-of-type {\n",
       "        vertical-align: middle;\n",
       "    }\n",
       "\n",
       "    .dataframe tbody tr th {\n",
       "        vertical-align: top;\n",
       "    }\n",
       "\n",
       "    .dataframe thead th {\n",
       "        text-align: right;\n",
       "    }\n",
       "</style>\n",
       "<table border=\"1\" class=\"dataframe\">\n",
       "  <thead>\n",
       "    <tr style=\"text-align: right;\">\n",
       "      <th></th>\n",
       "      <th>ID_REL</th>\n",
       "      <th>SEX</th>\n",
       "      <th>AGE_REL</th>\n",
       "    </tr>\n",
       "  </thead>\n",
       "  <tbody>\n",
       "    <tr>\n",
       "      <th>0</th>\n",
       "      <td>DASH200350</td>\n",
       "      <td>1</td>\n",
       "      <td>6</td>\n",
       "    </tr>\n",
       "    <tr>\n",
       "      <th>1</th>\n",
       "      <td>DASH200096</td>\n",
       "      <td>1</td>\n",
       "      <td>2</td>\n",
       "    </tr>\n",
       "    <tr>\n",
       "      <th>2</th>\n",
       "      <td>DASH200334</td>\n",
       "      <td>2</td>\n",
       "      <td>7</td>\n",
       "    </tr>\n",
       "    <tr>\n",
       "      <th>3</th>\n",
       "      <td>DASH200361</td>\n",
       "      <td>1</td>\n",
       "      <td>3</td>\n",
       "    </tr>\n",
       "    <tr>\n",
       "      <th>4</th>\n",
       "      <td>DASH200223</td>\n",
       "      <td>2</td>\n",
       "      <td>7</td>\n",
       "    </tr>\n",
       "  </tbody>\n",
       "</table>\n",
       "</div>"
      ],
      "text/plain": [
       "       ID_REL  SEX  AGE_REL\n",
       "0  DASH200350    1        6\n",
       "1  DASH200096    1        2\n",
       "2  DASH200334    2        7\n",
       "3  DASH200361    1        3\n",
       "4  DASH200223    2        7"
      ]
     },
     "execution_count": 3,
     "metadata": {},
     "output_type": "execute_result"
    }
   ],
   "source": [
    "df = df[['ID_REL', 'SEX', 'AGE_REL']]\n",
    "print(df.shape)\n",
    "df.head()"
   ]
  },
  {
   "cell_type": "markdown",
   "metadata": {},
   "source": [
    "#### step 3 篩選資料\n",
    "因為發現總共 412 個 ID 比我的血壓資料 344 比多了 68 筆資料\n",
    "從 DEMOGRA 的資料: Male 178; Female 234.\n",
    "Age 九個區間 =<30,31-35,36-40....,61-65, >65\n",
    "我們來確認一下 csv 檔案的內容與 Demogra 的資料是否吻合"
   ]
  },
  {
   "cell_type": "code",
   "execution_count": 4,
   "metadata": {},
   "outputs": [
    {
     "name": "stdout",
     "output_type": "stream",
     "text": [
      "412\n",
      "178\n",
      "234\n"
     ]
    }
   ],
   "source": [
    "print(len(df['SEX'])) #412\n",
    "print(list(df['SEX']).count(1)) # 1 = Male 178\n",
    "print(list(df['SEX']).count(2)) # 2 = Female 234"
   ]
  },
  {
   "cell_type": "code",
   "execution_count": 5,
   "metadata": {},
   "outputs": [
    {
     "name": "stdout",
     "output_type": "stream",
     "text": [
      "         ID_REL  SEX\n",
      "AGE_REL             \n",
      "1            12   12\n",
      "2            26   26\n",
      "3            50   50\n",
      "4            84   84\n",
      "5            84   84\n",
      "6            65   65\n",
      "7            38   38\n",
      "8            33   33\n",
      "9            20   20\n",
      "         ID_REL  SEX\n",
      "AGE_REL             \n",
      "1             7    7\n",
      "2            13   13\n",
      "3            24   24\n",
      "4            36   36\n",
      "5            30   30\n",
      "6            25   25\n",
      "7            19   19\n",
      "8            15   15\n",
      "9             9    9\n",
      "         ID_REL  SEX\n",
      "AGE_REL             \n",
      "1             5    5\n",
      "2            13   13\n",
      "3            26   26\n",
      "4            48   48\n",
      "5            54   54\n",
      "6            40   40\n",
      "7            19   19\n",
      "8            18   18\n",
      "9            11   11\n"
     ]
    }
   ],
   "source": [
    "# all\n",
    "print(df.groupby('AGE_REL').count())\n",
    "\n",
    "# separate by sex: 1 male, 2 female\n",
    "df_male = df[df['SEX']==1]\n",
    "df_female = df[df['SEX']==2]\n",
    "print(df_male.groupby('AGE_REL').count())\n",
    "print(df_female.groupby('AGE_REL').count())"
   ]
  },
  {
   "cell_type": "markdown",
   "metadata": {},
   "source": [
    "#### 對齊 ID\n",
    "將 abpm_d2 調整完的資料和 demogra 的 ID_REL 對起來 (主要是要 demogra 的 sex and age 資料)"
   ]
  },
  {
   "cell_type": "code",
   "execution_count": null,
   "metadata": {},
   "outputs": [],
   "source": [
    "# import clean data\n",
    "dir_path = 'C:/Users/Yao-Chung Chen/OneDrive/github_ferygood/CR-Hemodynamics/dash/code/Clean_data/'\n",
    "H_control = pd.read_csv(dir_path+'H_control_mean.csv', index_col=0)\n",
    "M_control = pd.read_csv(dir_path+'M_control_mean.csv', index_col=0)\n",
    "L_control = pd.read_csv(dir_path+'L_control_mean.csv', index_col=0)\n",
    "H_dash = pd.read_csv(dir_path+'H_dash_mean.csv', index_col=0)\n",
    "M_dash = pd.read_csv(dir_path+'M_dash_mean.csv', index_col=0)\n",
    "L_dash = pd.read_csv(dir_path+'L_dash_mean.csv', index_col=0)"
   ]
  },
  {
   "cell_type": "code",
   "execution_count": null,
   "metadata": {},
   "outputs": [],
   "source": [
    "# write a for loop to combine data\n",
    "def merge(data):\n",
    "    return pd.merge(data, df, how='left', on='ID_REL')\n",
    "\n",
    "H_control = merge(H_control)\n",
    "M_control = merge(M_control)\n",
    "L_control = merge(L_control)\n",
    "H_dash = merge(H_dash)\n",
    "M_dash = merge(M_dash)\n",
    "L_dash = merge(L_dash)"
   ]
  },
  {
   "cell_type": "code",
   "execution_count": null,
   "metadata": {},
   "outputs": [],
   "source": [
    "# save the merge data\n",
    "H_control.to_csv(dir_path+'H_control_combined.csv')\n",
    "M_control.to_csv(dir_path+'M_control_combined.csv')\n",
    "L_control.to_csv(dir_path+'L_control_combined.csv')\n",
    "H_dash.to_csv(dir_path+'H_dash_combined.csv')\n",
    "M_dash.to_csv(dir_path+'M_dash_combined.csv')\n",
    "L_dash.to_csv(dir_path+'L_dash_combined.csv')"
   ]
  },
  {
   "cell_type": "code",
   "execution_count": null,
   "metadata": {},
   "outputs": [],
   "source": [
    "# concat by diet\n",
    "control_diet_df = pd.concat([H_control, M_control, L_control])\n",
    "dash_diet_df = pd.concat([H_dash, M_dash, L_dash])\n",
    "control_and_dash = pd.concat([control_diet_df,dash_diet_df])"
   ]
  },
  {
   "cell_type": "code",
   "execution_count": null,
   "metadata": {},
   "outputs": [],
   "source": [
    "# save the merge data\n",
    "control_diet_df.to_csv(dir_path+'control_diet.csv')\n",
    "dash_diet_df.to_csv(dir_path+'dash_diet.csv')\n",
    "control_and_dash.to_csv(dir_path+'control_and_dash.csv')"
   ]
  }
 ],
 "metadata": {
  "kernelspec": {
   "display_name": "Python 3",
   "language": "python",
   "name": "python3"
  },
  "language_info": {
   "codemirror_mode": {
    "name": "ipython",
    "version": 3
   },
   "file_extension": ".py",
   "mimetype": "text/x-python",
   "name": "python",
   "nbconvert_exporter": "python",
   "pygments_lexer": "ipython3",
   "version": "3.6.5"
  }
 },
 "nbformat": 4,
 "nbformat_minor": 2
}
